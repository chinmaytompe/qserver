{
 "cells": [
  {
   "cell_type": "code",
   "execution_count": 5,
   "id": "f51d0d76",
   "metadata": {},
   "outputs": [
    {
     "name": "stderr",
     "output_type": "stream",
     "text": [
      "ibmqfactory.load_account:WARNING:2021-04-12 15:53:12,214: Credentials are already in use. The existing account in the session will be replaced.\n"
     ]
    }
   ],
   "source": [
    "import numpy as np\n",
    "# Importing standard Qiskit libraries\n",
    "from qiskit import QuantumCircuit, transpile, Aer, IBMQ\n",
    "from qiskit.tools.jupyter import *\n",
    "from qiskit.visualization import *\n",
    "from ibm_quantum_widgets import *\n",
    "\n",
    "# Loading your IBM Q account(s)\n",
    "provider = IBMQ.load_account()"
   ]
  },
  {
   "cell_type": "code",
   "execution_count": 3,
   "id": "7e938314",
   "metadata": {},
   "outputs": [],
   "source": [
    "#from openql import openql as ql\n",
    "#import qxelarator\n",
    "\n",
    "\n",
    "import random\n",
    "from math import *\n",
    "import os\n",
    "import re\n",
    "import math\n",
    "import matplotlib.pyplot as plt\n",
    "import numpy as np"
   ]
  },
  {
   "cell_type": "code",
   "execution_count": 11,
   "id": "7bae1313",
   "metadata": {},
   "outputs": [],
   "source": [
    "def randStr(szA,sz):\n",
    "    bias=1/szA #IMPROVE:addbiashere\n",
    "    rbs= ''\n",
    "    for i in range(0,sz):\n",
    "        rn=random.random()\n",
    "        for j in range(0,szA):\n",
    "            if rn<(j+1)*bias:\n",
    "                rbs=rbs+str(j)#IMPROVE:BCDversion\n",
    "                break\n",
    "    return rbs\n",
    "#Generatesarandomstringoflength’sz’overthealphabetofsize\n"
   ]
  },
  {
   "cell_type": "code",
   "execution_count": 16,
   "id": "5cc31324",
   "metadata": {},
   "outputs": [],
   "source": [
    "AS={'00','01','10','11'} #Alphabet set{0,1,2,3}:={A,C,G,T}for DNA Nucleotide bases\n",
    "A=len(AS) #Alphabet size\n",
    "N=11 #Reference Genome size\n",
    "w=randStr(4,N) #Reference Genome(e.g.w=”22013213”)\n",
    "M=3 #ShortReadsize\n",
    "ans=2 #Known answer for testing\n",
    "p=w[ans:ans+M] #ShortRead"
   ]
  },
  {
   "cell_type": "code",
   "execution_count": 18,
   "id": "c2c97737",
   "metadata": {},
   "outputs": [],
   "source": [
    "s=ceil(log2(N-M)) \n",
    "Q_D=s*M  #Number of data qubits\n",
    "Q_anc=1 #Number of ancilla qubits\n",
    "anc=Q_D #Ancilla qubit id\n",
    "total_qubits=Q_D+Q_anc"
   ]
  },
  {
   "cell_type": "code",
   "execution_count": 55,
   "id": "a5b6b7c1",
   "metadata": {},
   "outputs": [],
   "source": [
    "def QPM():\n",
    "    print(w,p)\n",
    "    config_fn=os.path.join('gateConfig.json')\n",
    "    platform=ql.Platform('platform_none',config_fn)\n",
    "    prog=ql.Program('qpm_a4',total_qubits,platform) \n",
    "    #Kernel1:Initialization\n",
    "    qk1=ql.Kernel('QCirc1',platform) #PROBLEM AREA\n",
    "    Circ1(qk1)\n",
    "    #Kernel2:Oraclestomarkspecificcharacter\n",
    "    qk2=ql.Kernel('QCirc2',platform)\n",
    "    bfa = ''.join('1' if w[i] == '0' else '0' for i in range (len(w)))\n",
    "    bfa = ''.join('1' if w[i] == '1' else '0' for i in range (len(w)))\n",
    "    bfa = ''.join('1' if w[i] == '2' else '0' for i in range (len(w)))\n",
    "    bfa = ''.join('1' if w[i] == '3' else '0' for i in range (len(w)))\n",
    "    \n",
    "    #Kernel3: Grover Amplitude Amplification\n",
    "    qk3 = ql.Kernel('QCirc3',platform)\n",
    "    Circ3(qk3,s,M)\n",
    "    #Kernel4:Measurement\n",
    "    qk4=ql.Kernel('QCirc4',platform)\n",
    "    Circ4(qk4)\n",
    "    \n",
    "    #ConstructProgramfromKernels\n",
    "    prog.add_kernel(qk1) #Initialise\n",
    "    #for pi in range(0,M): #Alternate iteration method\n",
    "    for r in range(0,int(sqrt(N-M+1))):\n",
    "        pi=random.randint(0,M-1)\n",
    "        if p[pi]=='0':\n",
    "            Circ2(qk2,bfa,pi)\n",
    "        elif p[pi]=='1':\n",
    "            Circ2(qk2,bfc,pi)\n",
    "        elif p[pi]=='2':\n",
    "            Circ2(qk2,bfg,pi)\n",
    "        else:\n",
    "            Circ2(qk2,bft,pi)\n",
    "    prog.add_kernel(qk2) #Conditionalkernelcall\n",
    "    del qk2\n",
    "    \n",
    "    #IMPROVE:Kerneltoqubitloosebindingbeingdiscussed\n",
    "    qk2=ql.Kernel('QCirc2',platform)\n",
    "    prog.add_kernel(qk3)\n",
    "#Inversionaboutmean\n",
    "#prog.add_kernel(qk4)\n",
    "#Uncommentifusingmeasurementbasedanalytics\n",
    "    prog.compile()\n",
    "    #showQasm()\n",
    "    qx=qxelarator.QX()\n",
    "    qx.set('test_output/qpm_a4.qasm')\n",
    "    #ResultanalyticsusingInternalStateVector\n",
    "    qx.execute()\n",
    "    qxopt=qx.get_state()\n",
    "    isv=[0]*(2**total_qubits)\n",
    "    ptrn=re.compile('\\(([+-]\\d+.\\d*),([+-]\\d+[.\\d*]?)\\)\\s[|]([0-1]*)>')\n",
    "    for line in qxopt.splitlines():\n",
    "        mtch=ptrn.search(line)\n",
    "        if mtch!=None:\n",
    "            ar=float(mtch.group(1))\n",
    "            ac=float(mtch.group(2))\n",
    "            state=int(mtch.group(3),2)\n",
    "            isv[state]=ar**2+ac**2\n",
    "    ploty=[0]*(2**s)\n",
    "    for i in range(0,len(isv)):\n",
    "        stot=format(i,'0'+str(total_qubits)+'b')[::-1]\n",
    "        sopt=int(stot[0:s],2)\n",
    "        ploty[sopt]=ploty[sopt]+isv[i]\n",
    "    print(\"PMax:\",np.amax(ploty))\n",
    "    print(\"Index:\",np.argmax(ploty))\n",
    "    plt.plot(ploty)\n",
    "    plt.ylabel('Probability')\n",
    "    plt.xlabel('Solution space')\n",
    "    plt.ylim([0,1])\n",
    "    plt.show() \n",
    "    return\n",
    "\n",
    "\n",
    "\n",
    "\n",
    "    \n"
   ]
  },
  {
   "cell_type": "code",
   "execution_count": 23,
   "id": "ba528479",
   "metadata": {},
   "outputs": [],
   "source": [
    "    #ResultanalyticsusingMeasurement\n",
    "''' \n",
    "res=[0]*s\n",
    "STT=1000\n",
    "#Numberofquantumstatetomographytrials\n",
    "true_counter=0\n",
    "foriinrange(STT):\n",
    "qx.execute()\n",
    "res[0]=res[0]+qx.get_measurement_outcome(0)\n",
    "res[1]=res[1]+qx.get_measurement_outcome(1)\n",
    "res[2]=res[2]+qx.get_measurement_outcome(2)\n",
    "\n",
    "index=’’.join(’1’ifres[i]>STT/2else ’0’foriinrange(s))\n",
    "print(”Index:”,int(index,2))\n",
    "\n",
    "'''"
   ]
  },
  {
   "cell_type": "code",
   "execution_count": 37,
   "id": "ec8a1a3b",
   "metadata": {},
   "outputs": [],
   "source": [
    "def Circ1(k):\n",
    "    for Qi in range(0,total_qubits):#Initialiseallqubitsto|0>state\n",
    "        k.prepz(Qi)\n",
    "    for si in range(0,s):#Uniformsuperpositionofpossiblestartingpositions(answers)\n",
    "        k.gate(\"h\",[si])\n",
    "    for Mi in range(0,M-1):\n",
    "        for si in range(0,s):#Copypositionencodingtonextsetofs\n",
    "            k.gate(\"cnot\",[Mi*s+si,(Mi+1)*s+si])\n",
    "        for si in range(0,s):#Incrementpositionencoding\n",
    "            ic=(Mi+1)*s-(si+1)\n",
    "            k.gate(\"x\",[ic])#Invertedcontrol\n",
    "            nc=[]\n",
    "            for sj in range(ic,(Mi+1)*s):\n",
    "                nc.append(sj)\n",
    "            for sj in range((Mi+2)*s-1,s+ic-1,-1):\n",
    "                nCX(k,nc,sj,anc)#Decomposemulti−controlledCNOT\n",
    "            k.gate(\"x\",[ic])#Uncomputeinvertedcontrol\n",
    "    return\n"
   ]
  },
  {
   "cell_type": "code",
   "execution_count": 39,
   "id": "477d3dd5",
   "metadata": {},
   "outputs": [],
   "source": [
    "def Circ2(k,bf,q):\n",
    "    for fi in range(0,len(bf)):#Encodeoraclefunction\n",
    "        if bf[fi] == '1':\n",
    "            fis=format(fi,'0'+str(s)+'b')\n",
    "            for fisi in range(0,s):#Encodebinaryvalueoffunctioninput\n",
    "                if fis[fisi]=='0':\n",
    "                    k.gate(\"x\",[q*s+fisi])\n",
    "                    k.gate(\"h\",[(q+1)*s-1])#CPhasetoCNOTconversion\n",
    "                    nc=[]\n",
    "            for qsi in range(q*s,(q+1)*s-1):\n",
    "                nc.append(qsi)\n",
    "                nCX(k,nc,(q+1)*s-1,anc)#Decomposemulti−controlledCNOT\n",
    "                k.gate(\"h\",[(q+1)*s-1])#UncomputeCPhasetoCNOTconversion\n",
    "                for fisi in range(0,s):#Uncomputebinaryvalueoffunctioninput\n",
    "                    if fis[fisi]=='0':\n",
    "                        k.gate(\"x\",[q*s+fisi])\n",
    "    return"
   ]
  },
  {
   "cell_type": "code",
   "execution_count": 41,
   "id": "ba1559b3",
   "metadata": {},
   "outputs": [],
   "source": [
    "def Circ3(k,s,M):\n",
    "    for si in range(0,s*M):\n",
    "        k.gate(\"h\",[si])\n",
    "        k.gate(\"x\",[si])\n",
    "    k.gate(\"h\",[s*M-1])\n",
    "    nc=[]\n",
    "    for sj in range(0,s*M-1):\n",
    "        nc.append(sj)\n",
    "    nCX(k,nc,s*M-1,s*M)\n",
    "    k.gate(\"h\",[s*M-1])\n",
    "    for si in range(0,s*M):\n",
    "        k.gate(\"x\",[si])\n",
    "        k.gate(\"h\",[si])\n",
    "    return\n",
    "\n",
    "#CPhasetoCNOTconversion\n",
    "\n",
    "#Decomposemulti−controlledCNOT\n",
    "#UncomputeCPhasetoCNOTconversion\n"
   ]
  },
  {
   "cell_type": "code",
   "execution_count": 42,
   "id": "869e3111",
   "metadata": {},
   "outputs": [],
   "source": [
    "def Circ4(k):\n",
    "    for si in range(0,s): #Measure first set of positions\n",
    "        k.gate(\"measure\",[si])\n",
    "    return\n",
    "\n"
   ]
  },
  {
   "cell_type": "code",
   "execution_count": 44,
   "id": "33e29eb3",
   "metadata": {},
   "outputs": [],
   "source": [
    "def nCX(k,c,t,b):\n",
    "    nc=len(c)\n",
    "    if nc==1:\n",
    "        k.gate(\"cnot\",[c[0],t])\n",
    "    elif nc==2:\n",
    "        k.toffoli(c[0],c[1],t)\n",
    "    else:\n",
    "        nch=ceil(nc/2)\n",
    "        c1=c[:nch]\n",
    "        c2=c[nch:]\n",
    "        c2.append(b)\n",
    "        nCX(k,c1,b,nch+1)\n",
    "        nCX(k,c2,t,nch-1)\n",
    "        nCX(k,c1,b,nch+1)\n",
    "        nCX(k,c2,t,nch-1)\n",
    "    return"
   ]
  },
  {
   "cell_type": "code",
   "execution_count": 46,
   "id": "cd2de572",
   "metadata": {},
   "outputs": [],
   "source": [
    "def showQasm():\n",
    "    file=open(\"test_output/qpm_a4.qasm\",\"r\")\n",
    "    print(\"\\n~~~~~CODEFILE~~~~~\\n\")\n",
    "    for line in file:\n",
    "        print(line,end='')\n",
    "    print()\n",
    "    file.close()\n"
   ]
  },
  {
   "cell_type": "code",
   "execution_count": 56,
   "id": "9bd1fbfb",
   "metadata": {},
   "outputs": [
    {
     "name": "stdout",
     "output_type": "stream",
     "text": [
      "33331032233 331\n",
      "Traceback \u001b[1;36m(most recent call last)\u001b[0m:\n",
      "  File \u001b[0;32m\"<ipython-input-56-b3e1b431c575>\"\u001b[0m, line \u001b[0;32m2\u001b[0m, in \u001b[0;35m<module>\u001b[0m\n",
      "    QPM()\n",
      "\u001b[1;36m  File \u001b[1;32m\"<ipython-input-55-dd81473d1629>\"\u001b[1;36m, line \u001b[1;32m4\u001b[1;36m, in \u001b[1;35mQPM\u001b[1;36m\u001b[0m\n",
      "\u001b[1;33m    platform=ql.Platform('platform_none',config_fn)\u001b[0m\n",
      "\u001b[1;31mNameError\u001b[0m\u001b[1;31m:\u001b[0m name 'ql' is not defined\n",
      "\n",
      "Use %tb to get the full traceback.\n"
     ]
    },
    {
     "data": {
      "text/html": [
       "\n",
       "<style>\n",
       ".button {\n",
       "  border: none;\n",
       "  color: white;\n",
       "  padding: 4px 8px;\n",
       "  text-align: center;\n",
       "  text-decoration: none;\n",
       "  display: inline-block;\n",
       "  font-size: 12px;\n",
       "  margin: 4px 2px;\n",
       "  transition-duration: 0.2s;\n",
       "  cursor: pointer;\n",
       "}\n",
       ".iqx-button {\n",
       "  background-color: #0f62fe; \n",
       "  color: white; \n",
       "}\n",
       ".iqx-button:hover {\n",
       "  background-color: #0043ce;\n",
       "  color: white;\n",
       "}\n",
       "</style>\n",
       "<a href=\"https://stackoverflow.com/search?q=NameError: name 'ql' is not defined\" target='_blank'><button class='button iqx-button'>Search for solution online</button></a>\n"
      ],
      "text/plain": [
       "<IPython.core.display.HTML object>"
      ]
     },
     "metadata": {},
     "output_type": "display_data"
    }
   ],
   "source": [
    "if __name__=='__main__':\n",
    "    QPM()"
   ]
  },
  {
   "cell_type": "code",
   "execution_count": null,
   "id": "e73274fa",
   "metadata": {},
   "outputs": [],
   "source": []
  }
 ],
 "metadata": {
  "kernelspec": {
   "display_name": "Python 3",
   "language": "python",
   "name": "python3"
  },
  "language_info": {
   "codemirror_mode": {
    "name": "ipython",
    "version": 3
   },
   "file_extension": ".py",
   "mimetype": "text/x-python",
   "name": "python",
   "nbconvert_exporter": "python",
   "pygments_lexer": "ipython3",
   "version": "3.8.8"
  }
 },
 "nbformat": 4,
 "nbformat_minor": 5
}
